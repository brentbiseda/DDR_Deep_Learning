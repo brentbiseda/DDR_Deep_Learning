{
 "cells": [
  {
   "cell_type": "markdown",
   "metadata": {},
   "source": [
    "# This notebook removes the Leading Zeroes"
   ]
  },
  {
   "cell_type": "code",
   "execution_count": 36,
   "metadata": {},
   "outputs": [],
   "source": [
    "from pathlib import Path\n",
    "import pandas as pd\n",
    "import re"
   ]
  },
  {
   "cell_type": "code",
   "execution_count": 37,
   "metadata": {},
   "outputs": [],
   "source": [
    "#Get the list of all of the step files\n",
    "step_files = list(Path(\"C:/Users/brent/Desktop/StepMania 5\").rglob(\"*.[dD][wW][iI]\"))\n",
    "\n",
    "#Get the list of all of the step files\n",
    "song_files = list(Path(\"C:/Users/brent/Desktop/StepMania 5\").rglob(\"*.[mM][pP][3]\"))"
   ]
  },
  {
   "cell_type": "code",
   "execution_count": 38,
   "metadata": {},
   "outputs": [],
   "source": [
    "def process_song(path, title):\n",
    "    #Open File\n",
    "    text_file = open(path, \"r\")\n",
    "    lines = text_file.readlines()\n",
    "    text_file.close()\n",
    "    \n",
    "    #Combine all text into single line\n",
    "    song = \"\".join(lines)\n",
    "    \n",
    "    #Remove newline characters\n",
    "    song = re.sub('\\n', '', song)\n",
    "    \n",
    "    #Split on semicolon and then add the semicolons back into the respective lines\n",
    "    song = song.split(';')\n",
    "    song = [line+';' for line in song][:-1]\n",
    "    \n",
    "    #Remove lines that start with 2 // (some files had this for some reason)\n",
    "    song = [line for line in song if (line.find('//') == -1)]\n",
    "    \n",
    "    #Create a dataframe of the song\n",
    "    df = pd.DataFrame()\n",
    "    df[title] = song\n",
    "    return df\n",
    "\n",
    "def pull_all_step_patterns(song, row):\n",
    "    song = song[row].str.split(\":\", n = 3, expand = True)\n",
    "    song = song[song[0].isin([\"#SINGLE\",\"#SOLO\"])]\n",
    "    return song\n",
    "\n",
    "def remove_leading_zeroes(song):\n",
    "    \"\"\"Take a song step file and remove the leading zeroes\"\"\"\n",
    "    song[3] = song[3].str.replace(r\"^0+\",\"\")\n",
    "    return song\n",
    "\n",
    "def join_all_step_patterns(step_files):\n",
    "    \"\"\"Create a dataframe of all songs for a fastai training model.\"\"\"\n",
    "    songs = pd.DataFrame()\n",
    "    for row, path in enumerate(step_files):\n",
    "        df = process_song(path, row)\n",
    "        df = pull_all_step_patterns(df, row)\n",
    "        songs = pd.concat([songs,df])\n",
    "    \n",
    "    songs[3] = songs[3].str.replace(r\"^0+\",\"\")\n",
    "    \n",
    "    songs = fastaiFormat(songs)\n",
    "    \n",
    "    return songs\n",
    "\n",
    "def fastaiFormat(songs):\n",
    "    \"\"\"Take a list of step files and make it into a format for fastai NLP\"\"\"\n",
    "    songs = songs.reset_index()\n",
    "    songs = songs[[1,3]]\n",
    "    songs.columns = ['label','text']\n",
    "\n",
    "    #Split the song into characters with spaces\n",
    "    songs['text'] = songs['text'].apply(lambda x: \" \".join(x))\n",
    "\n",
    "    #Remove the trailing semicolon as we can add it back in when we are done predicting songs\n",
    "    songs['text'] = songs['text'].apply(lambda x: x[:-1])\n",
    "    \n",
    "    return songs"
   ]
  },
  {
   "cell_type": "code",
   "execution_count": 39,
   "metadata": {},
   "outputs": [],
   "source": [
    "songs = join_all_step_patterns(step_files)"
   ]
  },
  {
   "cell_type": "code",
   "execution_count": 40,
   "metadata": {},
   "outputs": [
    {
     "data": {
      "text/html": [
       "<div>\n",
       "<style scoped>\n",
       "    .dataframe tbody tr th:only-of-type {\n",
       "        vertical-align: middle;\n",
       "    }\n",
       "\n",
       "    .dataframe tbody tr th {\n",
       "        vertical-align: top;\n",
       "    }\n",
       "\n",
       "    .dataframe thead th {\n",
       "        text-align: right;\n",
       "    }\n",
       "</style>\n",
       "<table border=\"1\" class=\"dataframe\">\n",
       "  <thead>\n",
       "    <tr style=\"text-align: right;\">\n",
       "      <th></th>\n",
       "      <th>label</th>\n",
       "      <th>text</th>\n",
       "    </tr>\n",
       "  </thead>\n",
       "  <tbody>\n",
       "    <tr>\n",
       "      <th>0</th>\n",
       "      <td>BEGINNER</td>\n",
       "      <td>6 0 6 0 0 0 0 0 4 0 4 0 0 0 6 0 0 0 4 0 0 0 0 ...</td>\n",
       "    </tr>\n",
       "    <tr>\n",
       "      <th>1</th>\n",
       "      <td>BASIC</td>\n",
       "      <td>8 0 6 0 8 0 4 0 8 0 6 0 0 0 0 0 6 0 0 0 6 0 B ...</td>\n",
       "    </tr>\n",
       "    <tr>\n",
       "      <th>2</th>\n",
       "      <td>ANOTHER</td>\n",
       "      <td>8 0 6 0 8 0 4 0 8 0 6 0 0 0 0 0 8 0 0 0 A 0 B ...</td>\n",
       "    </tr>\n",
       "    <tr>\n",
       "      <th>3</th>\n",
       "      <td>MANIAC</td>\n",
       "      <td>2 8 8 0 2 0 B 0 4 2 8 0 2 0 B 0 6 2 4 0 2 0 6 ...</td>\n",
       "    </tr>\n",
       "    <tr>\n",
       "      <th>4</th>\n",
       "      <td>SMANIAC</td>\n",
       "      <td>2 2 ( 8 0 0 2 ) 6 4 8 0 1 0 ( 6 0 0 4 ) 8 2 6 ...</td>\n",
       "    </tr>\n",
       "  </tbody>\n",
       "</table>\n",
       "</div>"
      ],
      "text/plain": [
       "      label                                               text\n",
       "0  BEGINNER  6 0 6 0 0 0 0 0 4 0 4 0 0 0 6 0 0 0 4 0 0 0 0 ...\n",
       "1     BASIC  8 0 6 0 8 0 4 0 8 0 6 0 0 0 0 0 6 0 0 0 6 0 B ...\n",
       "2   ANOTHER  8 0 6 0 8 0 4 0 8 0 6 0 0 0 0 0 8 0 0 0 A 0 B ...\n",
       "3    MANIAC  2 8 8 0 2 0 B 0 4 2 8 0 2 0 B 0 6 2 4 0 2 0 6 ...\n",
       "4   SMANIAC  2 2 ( 8 0 0 2 ) 6 4 8 0 1 0 ( 6 0 0 4 ) 8 2 6 ..."
      ]
     },
     "execution_count": 40,
     "metadata": {},
     "output_type": "execute_result"
    }
   ],
   "source": [
    "songs.head()"
   ]
  },
  {
   "cell_type": "code",
   "execution_count": 41,
   "metadata": {},
   "outputs": [],
   "source": [
    "songs.to_csv(\"songs_no_zero.csv\", index=False)"
   ]
  },
  {
   "cell_type": "markdown",
   "metadata": {},
   "source": [
    "# Train our Language Model"
   ]
  },
  {
   "cell_type": "code",
   "execution_count": 42,
   "metadata": {},
   "outputs": [],
   "source": [
    "%reload_ext autoreload\n",
    "%autoreload 2\n",
    "%matplotlib inline\n",
    "from fastai.text import *\n",
    "import os"
   ]
  },
  {
   "cell_type": "code",
   "execution_count": 43,
   "metadata": {},
   "outputs": [],
   "source": [
    "from pathlib import Path\n",
    "import pandas as pd\n",
    "import re\n",
    "import string\n",
    "\n",
    "%reload_ext autoreload\n",
    "%autoreload 2\n",
    "%matplotlib inline\n",
    "from fastai.text import *\n",
    "import os\n",
    "\n",
    "cwd = os.getcwd()\n",
    "path = Path(cwd)"
   ]
  },
  {
   "cell_type": "code",
   "execution_count": 44,
   "metadata": {},
   "outputs": [],
   "source": [
    "all_letters = list(string.printable + string.whitespace)\n",
    "\n",
    "#We don't want to remove repetition in the DDR song as that is part of it\n",
    "customtokenizer = Tokenizer(pre_rules= [], post_rules=[])\n",
    "\n",
    "processors = [TokenizeProcessor(tokenizer=customtokenizer, mark_fields=False),\n",
    "            NumericalizeProcessor(vocab=Vocab.create(all_letters, max_vocab=1000, min_freq=0))]\n",
    "\n",
    "data = (TextList.from_csv(path, 'songs_no_zero.csv', cols='text', processor=processors)\n",
    "                .split_by_rand_pct(0.2)\n",
    "                .label_for_lm()\n",
    "                .databunch(bs=192))\n",
    "data.save('data_block_lm3.pkl')"
   ]
  },
  {
   "cell_type": "code",
   "execution_count": 45,
   "metadata": {},
   "outputs": [],
   "source": [
    "data_lm = load_data(path, 'data_block_lm3.pkl',bs=192)\n",
    "learn = language_model_learner(data_lm, AWD_LSTM, drop_mult=0.3)"
   ]
  },
  {
   "cell_type": "code",
   "execution_count": 46,
   "metadata": {},
   "outputs": [
    {
     "data": {
      "text/html": [],
      "text/plain": [
       "<IPython.core.display.HTML object>"
      ]
     },
     "metadata": {},
     "output_type": "display_data"
    },
    {
     "name": "stdout",
     "output_type": "stream",
     "text": [
      "LR Finder is complete, type {learner_name}.recorder.plot() to see the graph.\n"
     ]
    },
    {
     "data": {
      "image/png": "[encoded data removed]",
      "text/plain": [
       "<Figure size 432x288 with 1 Axes>"
      ]
     },
     "metadata": {
      "needs_background": "light"
     },
     "output_type": "display_data"
    }
   ],
   "source": [
    "learn.lr_find()\n",
    "learn.recorder.plot(skip_end=15)"
   ]
  },
  {
   "cell_type": "code",
   "execution_count": 47,
   "metadata": {},
   "outputs": [
    {
     "data": {
      "text/html": [
       "Total time: 01:47 <p><table border=\"1\" class=\"dataframe\">\n",
       "  <thead>\n",
       "    <tr style=\"text-align: left;\">\n",
       "      <th>epoch</th>\n",
       "      <th>train_loss</th>\n",
       "      <th>valid_loss</th>\n",
       "      <th>accuracy</th>\n",
       "      <th>time</th>\n",
       "    </tr>\n",
       "  </thead>\n",
       "  <tbody>\n",
       "    <tr>\n",
       "      <td>0</td>\n",
       "      <td>2.478136</td>\n",
       "      <td>1.666726</td>\n",
       "      <td>0.490652</td>\n",
       "      <td>00:10</td>\n",
       "    </tr>\n",
       "    <tr>\n",
       "      <td>1</td>\n",
       "      <td>1.879491</td>\n",
       "      <td>1.469366</td>\n",
       "      <td>0.511452</td>\n",
       "      <td>00:10</td>\n",
       "    </tr>\n",
       "    <tr>\n",
       "      <td>2</td>\n",
       "      <td>1.638249</td>\n",
       "      <td>1.392691</td>\n",
       "      <td>0.525629</td>\n",
       "      <td>00:10</td>\n",
       "    </tr>\n",
       "    <tr>\n",
       "      <td>3</td>\n",
       "      <td>1.516109</td>\n",
       "      <td>1.351767</td>\n",
       "      <td>0.535403</td>\n",
       "      <td>00:10</td>\n",
       "    </tr>\n",
       "    <tr>\n",
       "      <td>4</td>\n",
       "      <td>1.453140</td>\n",
       "      <td>1.342484</td>\n",
       "      <td>0.539096</td>\n",
       "      <td>00:10</td>\n",
       "    </tr>\n",
       "    <tr>\n",
       "      <td>5</td>\n",
       "      <td>1.420458</td>\n",
       "      <td>1.332846</td>\n",
       "      <td>0.541721</td>\n",
       "      <td>00:10</td>\n",
       "    </tr>\n",
       "    <tr>\n",
       "      <td>6</td>\n",
       "      <td>1.404704</td>\n",
       "      <td>1.344610</td>\n",
       "      <td>0.537466</td>\n",
       "      <td>00:10</td>\n",
       "    </tr>\n",
       "    <tr>\n",
       "      <td>7</td>\n",
       "      <td>1.386753</td>\n",
       "      <td>1.316883</td>\n",
       "      <td>0.545346</td>\n",
       "      <td>00:10</td>\n",
       "    </tr>\n",
       "    <tr>\n",
       "      <td>8</td>\n",
       "      <td>1.374035</td>\n",
       "      <td>1.312088</td>\n",
       "      <td>0.547944</td>\n",
       "      <td>00:11</td>\n",
       "    </tr>\n",
       "    <tr>\n",
       "      <td>9</td>\n",
       "      <td>1.372337</td>\n",
       "      <td>1.311657</td>\n",
       "      <td>0.548681</td>\n",
       "      <td>00:10</td>\n",
       "    </tr>\n",
       "  </tbody>\n",
       "</table>"
      ],
      "text/plain": [
       "<IPython.core.display.HTML object>"
      ]
     },
     "metadata": {},
     "output_type": "display_data"
    }
   ],
   "source": [
    "learn.fit_one_cycle(10, 5e-2, moms=(0.8,0.7))"
   ]
  },
  {
   "cell_type": "code",
   "execution_count": 48,
   "metadata": {},
   "outputs": [],
   "source": [
    "learn.save('fit_head_3')"
   ]
  },
  {
   "cell_type": "code",
   "execution_count": 49,
   "metadata": {},
   "outputs": [],
   "source": [
    "learn.unfreeze()"
   ]
  },
  {
   "cell_type": "code",
   "execution_count": 50,
   "metadata": {},
   "outputs": [
    {
     "data": {
      "text/html": [
       "Total time: 02:26 <p><table border=\"1\" class=\"dataframe\">\n",
       "  <thead>\n",
       "    <tr style=\"text-align: left;\">\n",
       "      <th>epoch</th>\n",
       "      <th>train_loss</th>\n",
       "      <th>valid_loss</th>\n",
       "      <th>accuracy</th>\n",
       "      <th>time</th>\n",
       "    </tr>\n",
       "  </thead>\n",
       "  <tbody>\n",
       "    <tr>\n",
       "      <td>0</td>\n",
       "      <td>1.349128</td>\n",
       "      <td>1.298819</td>\n",
       "      <td>0.551529</td>\n",
       "      <td>00:14</td>\n",
       "    </tr>\n",
       "    <tr>\n",
       "      <td>1</td>\n",
       "      <td>1.329340</td>\n",
       "      <td>1.267281</td>\n",
       "      <td>0.559037</td>\n",
       "      <td>00:14</td>\n",
       "    </tr>\n",
       "    <tr>\n",
       "      <td>2</td>\n",
       "      <td>1.292467</td>\n",
       "      <td>1.230743</td>\n",
       "      <td>0.570786</td>\n",
       "      <td>00:14</td>\n",
       "    </tr>\n",
       "    <tr>\n",
       "      <td>3</td>\n",
       "      <td>1.255815</td>\n",
       "      <td>1.212191</td>\n",
       "      <td>0.576529</td>\n",
       "      <td>00:14</td>\n",
       "    </tr>\n",
       "    <tr>\n",
       "      <td>4</td>\n",
       "      <td>1.227565</td>\n",
       "      <td>1.192450</td>\n",
       "      <td>0.583455</td>\n",
       "      <td>00:14</td>\n",
       "    </tr>\n",
       "    <tr>\n",
       "      <td>5</td>\n",
       "      <td>1.201999</td>\n",
       "      <td>1.176046</td>\n",
       "      <td>0.589624</td>\n",
       "      <td>00:14</td>\n",
       "    </tr>\n",
       "    <tr>\n",
       "      <td>6</td>\n",
       "      <td>1.192392</td>\n",
       "      <td>1.169546</td>\n",
       "      <td>0.592066</td>\n",
       "      <td>00:14</td>\n",
       "    </tr>\n",
       "    <tr>\n",
       "      <td>7</td>\n",
       "      <td>1.170740</td>\n",
       "      <td>1.160979</td>\n",
       "      <td>0.595265</td>\n",
       "      <td>00:14</td>\n",
       "    </tr>\n",
       "    <tr>\n",
       "      <td>8</td>\n",
       "      <td>1.159789</td>\n",
       "      <td>1.156886</td>\n",
       "      <td>0.596882</td>\n",
       "      <td>00:14</td>\n",
       "    </tr>\n",
       "    <tr>\n",
       "      <td>9</td>\n",
       "      <td>1.150634</td>\n",
       "      <td>1.155324</td>\n",
       "      <td>0.596462</td>\n",
       "      <td>00:14</td>\n",
       "    </tr>\n",
       "  </tbody>\n",
       "</table>"
      ],
      "text/plain": [
       "<IPython.core.display.HTML object>"
      ]
     },
     "metadata": {},
     "output_type": "display_data"
    }
   ],
   "source": [
    "learn.fit_one_cycle(10, 1e-3, moms=(0.8,0.7))"
   ]
  },
  {
   "cell_type": "code",
   "execution_count": 51,
   "metadata": {},
   "outputs": [],
   "source": [
    "learn.save('fine_tuned_3')\n",
    "learn.save_encoder('fine_tuned_enc_3')"
   ]
  },
  {
   "cell_type": "code",
   "execution_count": 52,
   "metadata": {},
   "outputs": [
    {
     "name": "stdout",
     "output_type": "stream",
     "text": [
      " D 0 C 0 D 0 C 0 D 0 D 0 8 0 2 0 4 0 2 0 8 0 6 0 C 0 6 0 2 0 C 0 6 0 2 0 4 0 8 0 8 0 2 0 6 0 2 0 4 0 2 0 2 0 8 0 6 0 2 0 C 0 D 0 D 0 0 0 0 0 0 0 4 0 0 0 2 0 0 0 C 0 0 0 8 0 0 0 4 0 2 0 2 0 J 0 0 0 8 0 B 0 2 0 2 0 2 0 B 0 2 0 2 0 8 0 6 0 0 0 D 0 D 0 C 0 8 0 2 0 2 0 8 0 8 0 8 0 8 0 8 0 2 0 8 0 C 0 8 0 8 0 2 0 6 0 C 0 C 0 2 0 2 0 6 0 2 0 C 0 8 0 2 0 B 0 2 0 D 0 D 0 B 0 C 0 C 0 2 0 D 0 D 0 D 0 4 0 4 0\n"
     ]
    }
   ],
   "source": [
    "TEXT = \"\"\n",
    "N_WORDS = 200\n",
    "N_SENTENCES = 1\n",
    "print(\"\\n\".join(learn.predict(TEXT, N_WORDS, temperature=0.75) for _ in range(N_SENTENCES)))"
   ]
  },
  {
   "cell_type": "markdown",
   "metadata": {},
   "source": [
    "# Now we work on the classifier"
   ]
  },
  {
   "cell_type": "code",
   "execution_count": 53,
   "metadata": {},
   "outputs": [],
   "source": [
    "from pathlib import Path\n",
    "import pandas as pd\n",
    "import re\n",
    "import string\n",
    "\n",
    "%reload_ext autoreload\n",
    "%autoreload 2\n",
    "%matplotlib inline\n",
    "from fastai.text import *\n",
    "import os\n",
    "\n",
    "cwd = os.getcwd()\n",
    "path = Path(cwd)"
   ]
  },
  {
   "cell_type": "code",
   "execution_count": 54,
   "metadata": {},
   "outputs": [],
   "source": [
    "#Try out the datablock API to see if we can replicate and use either no tokenization or our custom tokenizer\n",
    "all_letters = list(string.printable + string.whitespace)\n",
    "\n",
    "#We don't want to remove repetition in the DDR song as that is part of it\n",
    "customtokenizer = Tokenizer(pre_rules= [], post_rules=[])\n",
    "\n",
    "processors = [TokenizeProcessor(tokenizer=customtokenizer, mark_fields=False),\n",
    "            NumericalizeProcessor(vocab=Vocab.create(all_letters, max_vocab=1000, min_freq=0))]\n",
    "\n",
    "data_clas = (TextList.from_csv(path, 'songs.csv', cols='text', processor=processors)\n",
    "                .split_by_rand_pct(0.2)\n",
    "                .label_from_df('label')\n",
    "                .databunch(bs=12))\n",
    "data_clas.save('data_clas_3.pkl')"
   ]
  },
  {
   "cell_type": "code",
   "execution_count": 55,
   "metadata": {},
   "outputs": [],
   "source": [
    "data_clas = load_data(path, 'data_clas_3.pkl', bs=12)\n",
    "learn = text_classifier_learner(data_clas, AWD_LSTM, drop_mult=0.3)\n",
    "learn.load_encoder('fine_tuned_enc_3')"
   ]
  },
  {
   "cell_type": "code",
   "execution_count": 56,
   "metadata": {},
   "outputs": [
    {
     "data": {
      "text/html": [],
      "text/plain": [
       "<IPython.core.display.HTML object>"
      ]
     },
     "metadata": {},
     "output_type": "display_data"
    },
    {
     "name": "stdout",
     "output_type": "stream",
     "text": [
      "LR Finder is complete, type {learner_name}.recorder.plot() to see the graph.\n"
     ]
    },
    {
     "data": {
      "image/png": "[encoded data removed]",
      "text/plain": [
       "<Figure size 432x288 with 1 Axes>"
      ]
     },
     "metadata": {
      "needs_background": "light"
     },
     "output_type": "display_data"
    }
   ],
   "source": [
    "learn.lr_find()\n",
    "learn.recorder.plot(skip_end=15)"
   ]
  },
  {
   "cell_type": "code",
   "execution_count": 57,
   "metadata": {},
   "outputs": [
    {
     "data": {
      "text/html": [
       "Total time: 10:11 <p><table border=\"1\" class=\"dataframe\">\n",
       "  <thead>\n",
       "    <tr style=\"text-align: left;\">\n",
       "      <th>epoch</th>\n",
       "      <th>train_loss</th>\n",
       "      <th>valid_loss</th>\n",
       "      <th>accuracy</th>\n",
       "      <th>time</th>\n",
       "    </tr>\n",
       "  </thead>\n",
       "  <tbody>\n",
       "    <tr>\n",
       "      <td>0</td>\n",
       "      <td>1.101338</td>\n",
       "      <td>0.790516</td>\n",
       "      <td>0.749164</td>\n",
       "      <td>01:01</td>\n",
       "    </tr>\n",
       "    <tr>\n",
       "      <td>1</td>\n",
       "      <td>0.855873</td>\n",
       "      <td>0.846046</td>\n",
       "      <td>0.692308</td>\n",
       "      <td>01:00</td>\n",
       "    </tr>\n",
       "    <tr>\n",
       "      <td>2</td>\n",
       "      <td>0.767616</td>\n",
       "      <td>0.643379</td>\n",
       "      <td>0.779264</td>\n",
       "      <td>01:01</td>\n",
       "    </tr>\n",
       "    <tr>\n",
       "      <td>3</td>\n",
       "      <td>0.762706</td>\n",
       "      <td>0.739143</td>\n",
       "      <td>0.725753</td>\n",
       "      <td>01:02</td>\n",
       "    </tr>\n",
       "    <tr>\n",
       "      <td>4</td>\n",
       "      <td>0.731602</td>\n",
       "      <td>0.618340</td>\n",
       "      <td>0.782609</td>\n",
       "      <td>01:00</td>\n",
       "    </tr>\n",
       "    <tr>\n",
       "      <td>5</td>\n",
       "      <td>0.727014</td>\n",
       "      <td>0.689815</td>\n",
       "      <td>0.752508</td>\n",
       "      <td>01:01</td>\n",
       "    </tr>\n",
       "    <tr>\n",
       "      <td>6</td>\n",
       "      <td>0.668333</td>\n",
       "      <td>0.679828</td>\n",
       "      <td>0.749164</td>\n",
       "      <td>01:01</td>\n",
       "    </tr>\n",
       "    <tr>\n",
       "      <td>7</td>\n",
       "      <td>0.640314</td>\n",
       "      <td>0.652950</td>\n",
       "      <td>0.772575</td>\n",
       "      <td>01:00</td>\n",
       "    </tr>\n",
       "    <tr>\n",
       "      <td>8</td>\n",
       "      <td>0.610352</td>\n",
       "      <td>0.659151</td>\n",
       "      <td>0.775920</td>\n",
       "      <td>01:00</td>\n",
       "    </tr>\n",
       "    <tr>\n",
       "      <td>9</td>\n",
       "      <td>0.606961</td>\n",
       "      <td>0.634655</td>\n",
       "      <td>0.775920</td>\n",
       "      <td>01:01</td>\n",
       "    </tr>\n",
       "  </tbody>\n",
       "</table>"
      ],
      "text/plain": [
       "<IPython.core.display.HTML object>"
      ]
     },
     "metadata": {},
     "output_type": "display_data"
    }
   ],
   "source": [
    "learn.fit_one_cycle(10, 1e-2, moms=(0.8,0.7))"
   ]
  },
  {
   "cell_type": "code",
   "execution_count": 58,
   "metadata": {},
   "outputs": [],
   "source": [
    "learn.save('classifier_3')"
   ]
  },
  {
   "cell_type": "code",
   "execution_count": 59,
   "metadata": {},
   "outputs": [],
   "source": [
    "learn.unfreeze()"
   ]
  },
  {
   "cell_type": "code",
   "execution_count": 60,
   "metadata": {
    "scrolled": true
   },
   "outputs": [
    {
     "data": {
      "text/html": [
       "Total time: 14:51 <p><table border=\"1\" class=\"dataframe\">\n",
       "  <thead>\n",
       "    <tr style=\"text-align: left;\">\n",
       "      <th>epoch</th>\n",
       "      <th>train_loss</th>\n",
       "      <th>valid_loss</th>\n",
       "      <th>accuracy</th>\n",
       "      <th>time</th>\n",
       "    </tr>\n",
       "  </thead>\n",
       "  <tbody>\n",
       "    <tr>\n",
       "      <td>0</td>\n",
       "      <td>0.628235</td>\n",
       "      <td>0.668624</td>\n",
       "      <td>0.772575</td>\n",
       "      <td>01:28</td>\n",
       "    </tr>\n",
       "    <tr>\n",
       "      <td>1</td>\n",
       "      <td>0.636625</td>\n",
       "      <td>0.575484</td>\n",
       "      <td>0.809365</td>\n",
       "      <td>01:28</td>\n",
       "    </tr>\n",
       "    <tr>\n",
       "      <td>2</td>\n",
       "      <td>0.718957</td>\n",
       "      <td>0.703777</td>\n",
       "      <td>0.722408</td>\n",
       "      <td>01:29</td>\n",
       "    </tr>\n",
       "    <tr>\n",
       "      <td>3</td>\n",
       "      <td>0.705603</td>\n",
       "      <td>0.581863</td>\n",
       "      <td>0.812709</td>\n",
       "      <td>01:28</td>\n",
       "    </tr>\n",
       "    <tr>\n",
       "      <td>4</td>\n",
       "      <td>0.660555</td>\n",
       "      <td>0.598923</td>\n",
       "      <td>0.782609</td>\n",
       "      <td>01:29</td>\n",
       "    </tr>\n",
       "    <tr>\n",
       "      <td>5</td>\n",
       "      <td>0.696981</td>\n",
       "      <td>0.590564</td>\n",
       "      <td>0.789298</td>\n",
       "      <td>01:30</td>\n",
       "    </tr>\n",
       "    <tr>\n",
       "      <td>6</td>\n",
       "      <td>0.644985</td>\n",
       "      <td>0.547766</td>\n",
       "      <td>0.802676</td>\n",
       "      <td>01:29</td>\n",
       "    </tr>\n",
       "    <tr>\n",
       "      <td>7</td>\n",
       "      <td>0.605895</td>\n",
       "      <td>0.572895</td>\n",
       "      <td>0.779264</td>\n",
       "      <td>01:29</td>\n",
       "    </tr>\n",
       "    <tr>\n",
       "      <td>8</td>\n",
       "      <td>0.587646</td>\n",
       "      <td>0.556502</td>\n",
       "      <td>0.799331</td>\n",
       "      <td>01:29</td>\n",
       "    </tr>\n",
       "    <tr>\n",
       "      <td>9</td>\n",
       "      <td>0.595241</td>\n",
       "      <td>0.577947</td>\n",
       "      <td>0.799331</td>\n",
       "      <td>01:28</td>\n",
       "    </tr>\n",
       "  </tbody>\n",
       "</table>"
      ],
      "text/plain": [
       "<IPython.core.display.HTML object>"
      ]
     },
     "metadata": {},
     "output_type": "display_data"
    }
   ],
   "source": [
    "learn.fit_one_cycle(10, 1e-3, moms=(0.8,0.7))"
   ]
  },
  {
   "cell_type": "code",
   "execution_count": 61,
   "metadata": {},
   "outputs": [],
   "source": [
    "learn.save('fine_tuned_classifier_3')\n",
    "learn.save_encoder('fine_tuned_enc_classifier_3')"
   ]
  },
  {
   "cell_type": "markdown",
   "metadata": {},
   "source": [
    "## What are the most frequently misclassified?"
   ]
  },
  {
   "cell_type": "code",
   "execution_count": 62,
   "metadata": {},
   "outputs": [
    {
     "data": {
      "text/plain": [
       "True"
      ]
     },
     "execution_count": 62,
     "metadata": {},
     "output_type": "execute_result"
    }
   ],
   "source": [
    "interp = ClassificationInterpretation.from_learner(learn)\n",
    "\n",
    "losses,idxs = interp.top_losses()\n",
    "\n",
    "len(data_clas.valid_ds)==len(losses)==len(idxs)"
   ]
  },
  {
   "cell_type": "code",
   "execution_count": 63,
   "metadata": {},
   "outputs": [
    {
     "data": {
      "image/png": "[encoded data removed]",
      "text/plain": [
       "<Figure size 720x720 with 1 Axes>"
      ]
     },
     "metadata": {
      "needs_background": "light"
     },
     "output_type": "display_data"
    }
   ],
   "source": [
    "interp.plot_confusion_matrix(figsize=(12,12), dpi=60)"
   ]
  },
  {
   "cell_type": "code",
   "execution_count": 64,
   "metadata": {},
   "outputs": [
    {
     "data": {
      "text/plain": [
       "[('MANIAC', 'ANOTHER', 21),\n",
       " ('ANOTHER', 'BASIC', 15),\n",
       " ('SMANIAC', 'MANIAC', 9),\n",
       " ('BASIC', 'BEGINNER', 6),\n",
       " ('BEGINNER', 'BASIC', 3),\n",
       " ('BASIC', 'ANOTHER', 2),\n",
       " ('SMANIAC', 'ANOTHER', 2)]"
      ]
     },
     "execution_count": 64,
     "metadata": {},
     "output_type": "execute_result"
    }
   ],
   "source": [
    "interp.most_confused(min_val=2)"
   ]
  },
  {
   "cell_type": "code",
   "execution_count": null,
   "metadata": {},
   "outputs": [],
   "source": []
  }
 ],
 "metadata": {
  "kernelspec": {
   "display_name": "Python 3",
   "language": "python",
   "name": "python3"
  },
  "language_info": {
   "codemirror_mode": {
    "name": "ipython",
    "version": 3
   },
   "file_extension": ".py",
   "mimetype": "text/x-python",
   "name": "python",
   "nbconvert_exporter": "python",
   "pygments_lexer": "ipython3",
   "version": "3.7.0"
  }
 },
 "nbformat": 4,
 "nbformat_minor": 2
}
