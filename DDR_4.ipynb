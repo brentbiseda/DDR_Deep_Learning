{
 "cells": [
  {
   "cell_type": "markdown",
   "metadata": {},
   "source": [
    "# This notebook refines the model using only playable songs:"
   ]
  },
  {
   "cell_type": "markdown",
   "metadata": {},
   "source": [
    "### While generating new songs to play we only want to generate songs with difficulty of 8.  Therefore we will load the refined model and then finetune it only to operate on our desired songs"
   ]
  },
  {
   "cell_type": "code",
   "execution_count": 4,
   "metadata": {},
   "outputs": [],
   "source": [
    "from pathlib import Path\n",
    "import pandas as pd\n",
    "import re"
   ]
  },
  {
   "cell_type": "code",
   "execution_count": 5,
   "metadata": {},
   "outputs": [],
   "source": [
    "#Get the list of all of the step files\n",
    "step_files = list(Path(\"C:/Users/brent/Desktop/StepMania 5\").rglob(\"*.[dD][wW][iI]\"))\n",
    "\n",
    "#Get the list of all of the step files\n",
    "song_files = list(Path(\"C:/Users/brent/Desktop/StepMania 5\").rglob(\"*.[mM][pP][3]\"))"
   ]
  },
  {
   "cell_type": "code",
   "execution_count": 6,
   "metadata": {},
   "outputs": [],
   "source": [
    "def process_song(path, title):\n",
    "    #Open File\n",
    "    text_file = open(path, \"r\")\n",
    "    lines = text_file.readlines()\n",
    "    text_file.close()\n",
    "    \n",
    "    #Combine all text into single line\n",
    "    song = \"\".join(lines)\n",
    "    \n",
    "    #Remove newline characters\n",
    "    song = re.sub('\\n', '', song)\n",
    "    \n",
    "    #Split on semicolon and then add the semicolons back into the respective lines\n",
    "    song = song.split(';')\n",
    "    song = [line+';' for line in song][:-1]\n",
    "    \n",
    "    #Remove lines that start with 2 // (some files had this for some reason)\n",
    "    song = [line for line in song if (line.find('//') == -1)]\n",
    "    \n",
    "    #Create a dataframe of the song\n",
    "    df = pd.DataFrame()\n",
    "    df[title] = song\n",
    "    return df\n",
    "\n",
    "def pull_all_step_patterns(song, row):\n",
    "    song = song[row].str.split(\":\", n = 3, expand = True)\n",
    "    song = song[song[0].isin([\"#SINGLE\",\"#SOLO\"])]\n",
    "    return song\n",
    "\n",
    "def remove_leading_zeroes(songs):\n",
    "    \"\"\"Take a song step file and remove the leading zeroes\"\"\"\n",
    "    songs[3] = songs[3].str.replace(r\"^0+\",\"\")\n",
    "    return songs\n",
    "\n",
    "def fastaiFormat(songs):\n",
    "    \"\"\"Take a list of step files and make it into a format for fastai NLP\"\"\"\n",
    "    songs = songs.reset_index()\n",
    "    songs = songs[[1,3]]\n",
    "    songs.columns = ['label','text']\n",
    "\n",
    "    #Split the song into characters with spaces\n",
    "    songs['text'] = songs['text'].apply(lambda x: \" \".join(x))\n",
    "\n",
    "    #Remove the trailing semicolon as we can add it back in when we are done predicting songs\n",
    "    songs['text'] = songs['text'].apply(lambda x: x[:-1])\n",
    "    \n",
    "    return songs\n",
    "\n",
    "def selectedDifficulty(songs, low=1, high=10):\n",
    "    \"\"\"Filters the songs only within a specific difficulty range given by low and high (inclusive)\"\"\"\n",
    "    songs = songs[pd.to_numeric(songs[2]).between(low,high)]\n",
    "    \n",
    "    return songs\n",
    "\n",
    "\n",
    "def join_all_step_patterns(step_files):\n",
    "    \"\"\"Create a dataframe of all songs for a fastai training model.\"\"\"\n",
    "    songs = pd.DataFrame()\n",
    "    for row, path in enumerate(step_files):\n",
    "        df = process_song(path, row)\n",
    "        df = pull_all_step_patterns(df, row)\n",
    "        songs = pd.concat([songs,df])\n",
    "    \n",
    "    songs = remove_leading_zeroes(songs)\n",
    "    songs = selectedDifficulty(songs, low=8, high=8)\n",
    "    songs = fastaiFormat(songs)\n",
    "    \n",
    "    return songs"
   ]
  },
  {
   "cell_type": "code",
   "execution_count": 7,
   "metadata": {},
   "outputs": [],
   "source": [
    "songs = join_all_step_patterns(step_files)"
   ]
  },
  {
   "cell_type": "code",
   "execution_count": 8,
   "metadata": {},
   "outputs": [
    {
     "data": {
      "text/html": [
       "<div>\n",
       "<style scoped>\n",
       "    .dataframe tbody tr th:only-of-type {\n",
       "        vertical-align: middle;\n",
       "    }\n",
       "\n",
       "    .dataframe tbody tr th {\n",
       "        vertical-align: top;\n",
       "    }\n",
       "\n",
       "    .dataframe thead th {\n",
       "        text-align: right;\n",
       "    }\n",
       "</style>\n",
       "<table border=\"1\" class=\"dataframe\">\n",
       "  <thead>\n",
       "    <tr style=\"text-align: right;\">\n",
       "      <th></th>\n",
       "      <th>label</th>\n",
       "      <th>text</th>\n",
       "    </tr>\n",
       "  </thead>\n",
       "  <tbody>\n",
       "    <tr>\n",
       "      <th>0</th>\n",
       "      <td>SMANIAC</td>\n",
       "      <td>2 2 ( 8 0 0 2 ) 6 4 8 0 1 0 ( 6 0 0 4 ) 8 2 6 ...</td>\n",
       "    </tr>\n",
       "    <tr>\n",
       "      <th>1</th>\n",
       "      <td>SMANIAC</td>\n",
       "      <td>6 0 ( 6 0 0 4 ) 6 8 2 4 6 6 ( 6 0 8 2 8 2 8 0 ...</td>\n",
       "    </tr>\n",
       "    <tr>\n",
       "      <th>2</th>\n",
       "      <td>SMANIAC</td>\n",
       "      <td>8 6 2 8 4 0 2 4 2 8 B 0 4 2 0 0 8 6 2 0 7 0 8 ...</td>\n",
       "    </tr>\n",
       "    <tr>\n",
       "      <th>3</th>\n",
       "      <td>SMANIAC</td>\n",
       "      <td>8 0 6 0 2 0 4 0 8 0 6 0 2 0 4 0 0 0 A 0 B 0 0 ...</td>\n",
       "    </tr>\n",
       "    <tr>\n",
       "      <th>4</th>\n",
       "      <td>MANIAC</td>\n",
       "      <td>1 0 6 0 2 6 4 0 8 0 2 4 6 2 4 0 3 0 4 0 2 4 6 ...</td>\n",
       "    </tr>\n",
       "  </tbody>\n",
       "</table>\n",
       "</div>"
      ],
      "text/plain": [
       "     label                                               text\n",
       "0  SMANIAC  2 2 ( 8 0 0 2 ) 6 4 8 0 1 0 ( 6 0 0 4 ) 8 2 6 ...\n",
       "1  SMANIAC  6 0 ( 6 0 0 4 ) 6 8 2 4 6 6 ( 6 0 8 2 8 2 8 0 ...\n",
       "2  SMANIAC  8 6 2 8 4 0 2 4 2 8 B 0 4 2 0 0 8 6 2 0 7 0 8 ...\n",
       "3  SMANIAC  8 0 6 0 2 0 4 0 8 0 6 0 2 0 4 0 0 0 A 0 B 0 0 ...\n",
       "4   MANIAC  1 0 6 0 2 6 4 0 8 0 2 4 6 2 4 0 3 0 4 0 2 4 6 ..."
      ]
     },
     "execution_count": 8,
     "metadata": {},
     "output_type": "execute_result"
    }
   ],
   "source": [
    "songs.head()"
   ]
  },
  {
   "cell_type": "code",
   "execution_count": 9,
   "metadata": {},
   "outputs": [],
   "source": [
    "songs.to_csv(\"songs_8.csv\", index=False)"
   ]
  },
  {
   "cell_type": "markdown",
   "metadata": {},
   "source": [
    "# Refine our Language Model"
   ]
  },
  {
   "cell_type": "code",
   "execution_count": 10,
   "metadata": {},
   "outputs": [],
   "source": [
    "%reload_ext autoreload\n",
    "%autoreload 2\n",
    "%matplotlib inline\n",
    "from fastai.text import *\n",
    "import os"
   ]
  },
  {
   "cell_type": "code",
   "execution_count": 11,
   "metadata": {},
   "outputs": [],
   "source": [
    "from pathlib import Path\n",
    "import pandas as pd\n",
    "import re\n",
    "import string\n",
    "\n",
    "%reload_ext autoreload\n",
    "%autoreload 2\n",
    "%matplotlib inline\n",
    "from fastai.text import *\n",
    "import os\n",
    "\n",
    "cwd = os.getcwd()\n",
    "path = Path(cwd)"
   ]
  },
  {
   "cell_type": "code",
   "execution_count": 12,
   "metadata": {},
   "outputs": [],
   "source": [
    "all_letters = list(string.printable + string.whitespace)\n",
    "\n",
    "#We don't want to remove repetition in the DDR song as that is part of it\n",
    "customtokenizer = Tokenizer(pre_rules= [], post_rules=[])\n",
    "\n",
    "processors = [TokenizeProcessor(tokenizer=customtokenizer, mark_fields=False),\n",
    "            NumericalizeProcessor(vocab=Vocab.create(all_letters, max_vocab=1000, min_freq=0))]\n",
    "\n",
    "data = (TextList.from_csv(path, \"songs_8.csv\", cols='text', processor=processors)\n",
    "                .split_by_rand_pct(0.2)\n",
    "                .label_for_lm()\n",
    "                .databunch(bs=96))\n",
    "data.save('data_block_lm4.pkl')"
   ]
  },
  {
   "cell_type": "code",
   "execution_count": 13,
   "metadata": {},
   "outputs": [],
   "source": [
    "data_lm = load_data(path, 'data_block_lm4.pkl',bs=96)\n",
    "learn = language_model_learner(data_lm, AWD_LSTM, drop_mult=0.3)"
   ]
  },
  {
   "cell_type": "code",
   "execution_count": 14,
   "metadata": {},
   "outputs": [],
   "source": [
    "learn.load('fine_tuned_3')\n",
    "learn.load_encoder('fine_tuned_enc_3')"
   ]
  },
  {
   "cell_type": "code",
   "execution_count": 15,
   "metadata": {},
   "outputs": [
    {
     "data": {
      "text/html": [
       "Total time: 00:07 <p><table border=\"1\" class=\"dataframe\">\n",
       "  <thead>\n",
       "    <tr style=\"text-align: left;\">\n",
       "      <th>epoch</th>\n",
       "      <th>train_loss</th>\n",
       "      <th>valid_loss</th>\n",
       "      <th>accuracy</th>\n",
       "      <th>time</th>\n",
       "    </tr>\n",
       "  </thead>\n",
       "  <tbody>\n",
       "    <tr>\n",
       "      <td>0</td>\n",
       "      <td>1.425844</td>\n",
       "      <td>1.460666</td>\n",
       "      <td>0.481548</td>\n",
       "      <td>00:02</td>\n",
       "    </tr>\n",
       "    <tr>\n",
       "      <td>1</td>\n",
       "      <td>1.427103</td>\n",
       "      <td>1.460569</td>\n",
       "      <td>0.482490</td>\n",
       "      <td>00:01</td>\n",
       "    </tr>\n",
       "    <tr>\n",
       "      <td>2</td>\n",
       "      <td>1.422698</td>\n",
       "      <td>1.454080</td>\n",
       "      <td>0.481647</td>\n",
       "      <td>00:01</td>\n",
       "    </tr>\n",
       "    <tr>\n",
       "      <td>3</td>\n",
       "      <td>1.418551</td>\n",
       "      <td>1.452928</td>\n",
       "      <td>0.483929</td>\n",
       "      <td>00:01</td>\n",
       "    </tr>\n",
       "  </tbody>\n",
       "</table>"
      ],
      "text/plain": [
       "<IPython.core.display.HTML object>"
      ]
     },
     "metadata": {},
     "output_type": "display_data"
    }
   ],
   "source": [
    "learn.fit_one_cycle(4, 1e-2, moms=(0.8,0.7))"
   ]
  },
  {
   "cell_type": "code",
   "execution_count": 16,
   "metadata": {},
   "outputs": [],
   "source": [
    "learn.unfreeze()"
   ]
  },
  {
   "cell_type": "code",
   "execution_count": 17,
   "metadata": {},
   "outputs": [
    {
     "data": {
      "text/html": [
       "Total time: 00:25 <p><table border=\"1\" class=\"dataframe\">\n",
       "  <thead>\n",
       "    <tr style=\"text-align: left;\">\n",
       "      <th>epoch</th>\n",
       "      <th>train_loss</th>\n",
       "      <th>valid_loss</th>\n",
       "      <th>accuracy</th>\n",
       "      <th>time</th>\n",
       "    </tr>\n",
       "  </thead>\n",
       "  <tbody>\n",
       "    <tr>\n",
       "      <td>0</td>\n",
       "      <td>1.406029</td>\n",
       "      <td>1.461039</td>\n",
       "      <td>0.485317</td>\n",
       "      <td>00:02</td>\n",
       "    </tr>\n",
       "    <tr>\n",
       "      <td>1</td>\n",
       "      <td>1.408560</td>\n",
       "      <td>1.471706</td>\n",
       "      <td>0.478224</td>\n",
       "      <td>00:02</td>\n",
       "    </tr>\n",
       "    <tr>\n",
       "      <td>2</td>\n",
       "      <td>1.400575</td>\n",
       "      <td>1.486307</td>\n",
       "      <td>0.473661</td>\n",
       "      <td>00:02</td>\n",
       "    </tr>\n",
       "    <tr>\n",
       "      <td>3</td>\n",
       "      <td>1.393351</td>\n",
       "      <td>1.476573</td>\n",
       "      <td>0.479712</td>\n",
       "      <td>00:02</td>\n",
       "    </tr>\n",
       "    <tr>\n",
       "      <td>4</td>\n",
       "      <td>1.377061</td>\n",
       "      <td>1.495947</td>\n",
       "      <td>0.482391</td>\n",
       "      <td>00:02</td>\n",
       "    </tr>\n",
       "    <tr>\n",
       "      <td>5</td>\n",
       "      <td>1.364157</td>\n",
       "      <td>1.476423</td>\n",
       "      <td>0.483085</td>\n",
       "      <td>00:02</td>\n",
       "    </tr>\n",
       "    <tr>\n",
       "      <td>6</td>\n",
       "      <td>1.348438</td>\n",
       "      <td>1.489746</td>\n",
       "      <td>0.484623</td>\n",
       "      <td>00:02</td>\n",
       "    </tr>\n",
       "    <tr>\n",
       "      <td>7</td>\n",
       "      <td>1.328786</td>\n",
       "      <td>1.489460</td>\n",
       "      <td>0.487103</td>\n",
       "      <td>00:02</td>\n",
       "    </tr>\n",
       "    <tr>\n",
       "      <td>8</td>\n",
       "      <td>1.312450</td>\n",
       "      <td>1.486816</td>\n",
       "      <td>0.485566</td>\n",
       "      <td>00:02</td>\n",
       "    </tr>\n",
       "    <tr>\n",
       "      <td>9</td>\n",
       "      <td>1.298570</td>\n",
       "      <td>1.485491</td>\n",
       "      <td>0.483879</td>\n",
       "      <td>00:02</td>\n",
       "    </tr>\n",
       "  </tbody>\n",
       "</table>"
      ],
      "text/plain": [
       "<IPython.core.display.HTML object>"
      ]
     },
     "metadata": {},
     "output_type": "display_data"
    }
   ],
   "source": [
    "learn.fit_one_cycle(10, 1e-3, moms=(0.8,0.7))"
   ]
  },
  {
   "cell_type": "code",
   "execution_count": 18,
   "metadata": {},
   "outputs": [
    {
     "data": {
      "text/html": [
       "Total time: 00:25 <p><table border=\"1\" class=\"dataframe\">\n",
       "  <thead>\n",
       "    <tr style=\"text-align: left;\">\n",
       "      <th>epoch</th>\n",
       "      <th>train_loss</th>\n",
       "      <th>valid_loss</th>\n",
       "      <th>accuracy</th>\n",
       "      <th>time</th>\n",
       "    </tr>\n",
       "  </thead>\n",
       "  <tbody>\n",
       "    <tr>\n",
       "      <td>0</td>\n",
       "      <td>1.242651</td>\n",
       "      <td>1.488768</td>\n",
       "      <td>0.485516</td>\n",
       "      <td>00:02</td>\n",
       "    </tr>\n",
       "    <tr>\n",
       "      <td>1</td>\n",
       "      <td>1.246537</td>\n",
       "      <td>1.480465</td>\n",
       "      <td>0.487946</td>\n",
       "      <td>00:02</td>\n",
       "    </tr>\n",
       "    <tr>\n",
       "      <td>2</td>\n",
       "      <td>1.249150</td>\n",
       "      <td>1.493770</td>\n",
       "      <td>0.484673</td>\n",
       "      <td>00:02</td>\n",
       "    </tr>\n",
       "    <tr>\n",
       "      <td>3</td>\n",
       "      <td>1.245571</td>\n",
       "      <td>1.487891</td>\n",
       "      <td>0.484177</td>\n",
       "      <td>00:02</td>\n",
       "    </tr>\n",
       "    <tr>\n",
       "      <td>4</td>\n",
       "      <td>1.242252</td>\n",
       "      <td>1.483709</td>\n",
       "      <td>0.487550</td>\n",
       "      <td>00:02</td>\n",
       "    </tr>\n",
       "    <tr>\n",
       "      <td>5</td>\n",
       "      <td>1.241086</td>\n",
       "      <td>1.493691</td>\n",
       "      <td>0.484425</td>\n",
       "      <td>00:02</td>\n",
       "    </tr>\n",
       "    <tr>\n",
       "      <td>6</td>\n",
       "      <td>1.255058</td>\n",
       "      <td>1.480330</td>\n",
       "      <td>0.488442</td>\n",
       "      <td>00:02</td>\n",
       "    </tr>\n",
       "    <tr>\n",
       "      <td>7</td>\n",
       "      <td>1.248351</td>\n",
       "      <td>1.487650</td>\n",
       "      <td>0.486260</td>\n",
       "      <td>00:02</td>\n",
       "    </tr>\n",
       "    <tr>\n",
       "      <td>8</td>\n",
       "      <td>1.244021</td>\n",
       "      <td>1.496054</td>\n",
       "      <td>0.483482</td>\n",
       "      <td>00:02</td>\n",
       "    </tr>\n",
       "    <tr>\n",
       "      <td>9</td>\n",
       "      <td>1.244210</td>\n",
       "      <td>1.491498</td>\n",
       "      <td>0.487153</td>\n",
       "      <td>00:02</td>\n",
       "    </tr>\n",
       "  </tbody>\n",
       "</table>"
      ],
      "text/plain": [
       "<IPython.core.display.HTML object>"
      ]
     },
     "metadata": {},
     "output_type": "display_data"
    }
   ],
   "source": [
    "learn.fit_one_cycle(10, 1e-4, moms=(0.8,0.7))"
   ]
  },
  {
   "cell_type": "code",
   "execution_count": 19,
   "metadata": {},
   "outputs": [],
   "source": [
    "learn.save('fine_tuned_4')\n",
    "learn.save_encoder('fine_tuned_enc_4')"
   ]
  },
  {
   "cell_type": "code",
   "execution_count": 20,
   "metadata": {},
   "outputs": [
    {
     "name": "stdout",
     "output_type": "stream",
     "text": [
      " 8 0 0 0 4 0 0 0 6 0 0 0 8 0 0 0 6 0 0 0 4 0 0 0 2 0 0 0 8 0 0 0 8 0 0 0 2 0 0 0 B 0 0 0 2 0 0 0 8 0 0 0 6 0 0 0 2 0 0 0 8 0 0 0 4 0 0 0 4 0 0 0 6 0 0 0 6 0 0 0 4 0 0 0 6 0 0 0 2 0 0 0 4 0 0 0 4 0 0 0 4 0 0 0 6 0 6 0 6 0 0 0 8 0 6 0 4 0 2 0 4 0 8 0 2 0 0 0 6 0 2 0 8 0 4 0 2 0 6 0 8 0 8 0 6 0 6 0 4 0 2 0 6 0 2 0 8 0 4 0 8 0 6 0 8 0 6 0 4 0 2 0 2 0 8 0 2 0 6 0 2 0 2 0 2 0 8 0 4 0 2 0 4 0 2 0 8 0 6 0\n"
     ]
    }
   ],
   "source": [
    "TEXT = \"\"\n",
    "N_WORDS = 200\n",
    "N_SENTENCES = 1\n",
    "print(\"\\n\".join(learn.predict(TEXT, N_WORDS, temperature=0.50) for _ in range(N_SENTENCES)))"
   ]
  },
  {
   "cell_type": "markdown",
   "metadata": {},
   "source": [
    "# Now we work on the classifier"
   ]
  },
  {
   "cell_type": "code",
   "execution_count": 21,
   "metadata": {},
   "outputs": [],
   "source": [
    "from pathlib import Path\n",
    "import pandas as pd\n",
    "import re\n",
    "import string\n",
    "\n",
    "%reload_ext autoreload\n",
    "%autoreload 2\n",
    "%matplotlib inline\n",
    "from fastai.text import *\n",
    "import os\n",
    "\n",
    "cwd = os.getcwd()\n",
    "path = Path(cwd)"
   ]
  },
  {
   "cell_type": "code",
   "execution_count": 22,
   "metadata": {},
   "outputs": [],
   "source": [
    "#Try out the datablock API to see if we can replicate and use either no tokenization or our custom tokenizer\n",
    "all_letters = list(string.printable + string.whitespace)\n",
    "\n",
    "#We don't want to remove repetition in the DDR song as that is part of it\n",
    "customtokenizer = Tokenizer(pre_rules= [], post_rules=[])\n",
    "\n",
    "processors = [TokenizeProcessor(tokenizer=customtokenizer, mark_fields=False),\n",
    "            NumericalizeProcessor(vocab=Vocab.create(all_letters, max_vocab=1000, min_freq=0))]\n",
    "\n",
    "data_clas = (TextList.from_csv(path, 'songs_8.csv', cols='text', processor=processors)\n",
    "                .split_by_rand_pct(0.2)\n",
    "                .label_from_df('label')\n",
    "                .databunch(bs=12))\n",
    "data_clas.save('data_clas_4.pkl')"
   ]
  },
  {
   "cell_type": "code",
   "execution_count": 23,
   "metadata": {},
   "outputs": [],
   "source": [
    "data_clas = load_data(path, 'data_clas_4.pkl', bs=12)\n",
    "learn = text_classifier_learner(data_clas, AWD_LSTM, drop_mult=0.3)\n",
    "learn.load_encoder('fine_tuned_enc_4')"
   ]
  },
  {
   "cell_type": "code",
   "execution_count": 24,
   "metadata": {},
   "outputs": [
    {
     "data": {
      "text/html": [
       "Total time: 02:03 <p><table border=\"1\" class=\"dataframe\">\n",
       "  <thead>\n",
       "    <tr style=\"text-align: left;\">\n",
       "      <th>epoch</th>\n",
       "      <th>train_loss</th>\n",
       "      <th>valid_loss</th>\n",
       "      <th>accuracy</th>\n",
       "      <th>time</th>\n",
       "    </tr>\n",
       "  </thead>\n",
       "  <tbody>\n",
       "    <tr>\n",
       "      <td>0</td>\n",
       "      <td>1.080584</td>\n",
       "      <td>1.014374</td>\n",
       "      <td>0.742857</td>\n",
       "      <td>00:24</td>\n",
       "    </tr>\n",
       "    <tr>\n",
       "      <td>1</td>\n",
       "      <td>0.926094</td>\n",
       "      <td>0.622466</td>\n",
       "      <td>0.885714</td>\n",
       "      <td>00:24</td>\n",
       "    </tr>\n",
       "    <tr>\n",
       "      <td>2</td>\n",
       "      <td>0.784450</td>\n",
       "      <td>0.439262</td>\n",
       "      <td>0.885714</td>\n",
       "      <td>00:24</td>\n",
       "    </tr>\n",
       "    <tr>\n",
       "      <td>3</td>\n",
       "      <td>0.657643</td>\n",
       "      <td>0.427970</td>\n",
       "      <td>0.914286</td>\n",
       "      <td>00:24</td>\n",
       "    </tr>\n",
       "    <tr>\n",
       "      <td>4</td>\n",
       "      <td>0.582532</td>\n",
       "      <td>0.401975</td>\n",
       "      <td>0.885714</td>\n",
       "      <td>00:24</td>\n",
       "    </tr>\n",
       "  </tbody>\n",
       "</table>"
      ],
      "text/plain": [
       "<IPython.core.display.HTML object>"
      ]
     },
     "metadata": {},
     "output_type": "display_data"
    }
   ],
   "source": [
    "learn.fit_one_cycle(5, 1e-2, moms=(0.8,0.7))"
   ]
  },
  {
   "cell_type": "code",
   "execution_count": 25,
   "metadata": {},
   "outputs": [],
   "source": [
    "learn.unfreeze()"
   ]
  },
  {
   "cell_type": "code",
   "execution_count": 26,
   "metadata": {
    "scrolled": true
   },
   "outputs": [
    {
     "data": {
      "text/html": [
       "Total time: 04:38 <p><table border=\"1\" class=\"dataframe\">\n",
       "  <thead>\n",
       "    <tr style=\"text-align: left;\">\n",
       "      <th>epoch</th>\n",
       "      <th>train_loss</th>\n",
       "      <th>valid_loss</th>\n",
       "      <th>accuracy</th>\n",
       "      <th>time</th>\n",
       "    </tr>\n",
       "  </thead>\n",
       "  <tbody>\n",
       "    <tr>\n",
       "      <td>0</td>\n",
       "      <td>0.371338</td>\n",
       "      <td>0.400832</td>\n",
       "      <td>0.828571</td>\n",
       "      <td>00:28</td>\n",
       "    </tr>\n",
       "    <tr>\n",
       "      <td>1</td>\n",
       "      <td>0.398963</td>\n",
       "      <td>0.430115</td>\n",
       "      <td>0.857143</td>\n",
       "      <td>00:27</td>\n",
       "    </tr>\n",
       "    <tr>\n",
       "      <td>2</td>\n",
       "      <td>0.401672</td>\n",
       "      <td>0.460057</td>\n",
       "      <td>0.742857</td>\n",
       "      <td>00:28</td>\n",
       "    </tr>\n",
       "    <tr>\n",
       "      <td>3</td>\n",
       "      <td>0.387261</td>\n",
       "      <td>0.377784</td>\n",
       "      <td>0.857143</td>\n",
       "      <td>00:27</td>\n",
       "    </tr>\n",
       "    <tr>\n",
       "      <td>4</td>\n",
       "      <td>0.379487</td>\n",
       "      <td>0.534043</td>\n",
       "      <td>0.742857</td>\n",
       "      <td>00:28</td>\n",
       "    </tr>\n",
       "    <tr>\n",
       "      <td>5</td>\n",
       "      <td>0.368730</td>\n",
       "      <td>0.451201</td>\n",
       "      <td>0.857143</td>\n",
       "      <td>00:27</td>\n",
       "    </tr>\n",
       "    <tr>\n",
       "      <td>6</td>\n",
       "      <td>0.333492</td>\n",
       "      <td>0.419125</td>\n",
       "      <td>0.857143</td>\n",
       "      <td>00:27</td>\n",
       "    </tr>\n",
       "    <tr>\n",
       "      <td>7</td>\n",
       "      <td>0.321394</td>\n",
       "      <td>0.407617</td>\n",
       "      <td>0.885714</td>\n",
       "      <td>00:27</td>\n",
       "    </tr>\n",
       "    <tr>\n",
       "      <td>8</td>\n",
       "      <td>0.306917</td>\n",
       "      <td>0.538058</td>\n",
       "      <td>0.742857</td>\n",
       "      <td>00:27</td>\n",
       "    </tr>\n",
       "    <tr>\n",
       "      <td>9</td>\n",
       "      <td>0.289807</td>\n",
       "      <td>0.482225</td>\n",
       "      <td>0.800000</td>\n",
       "      <td>00:27</td>\n",
       "    </tr>\n",
       "  </tbody>\n",
       "</table>"
      ],
      "text/plain": [
       "<IPython.core.display.HTML object>"
      ]
     },
     "metadata": {},
     "output_type": "display_data"
    }
   ],
   "source": [
    "learn.fit_one_cycle(10, 1e-3, moms=(0.8,0.7))"
   ]
  },
  {
   "cell_type": "code",
   "execution_count": 27,
   "metadata": {},
   "outputs": [
    {
     "data": {
      "text/html": [
       "Total time: 04:37 <p><table border=\"1\" class=\"dataframe\">\n",
       "  <thead>\n",
       "    <tr style=\"text-align: left;\">\n",
       "      <th>epoch</th>\n",
       "      <th>train_loss</th>\n",
       "      <th>valid_loss</th>\n",
       "      <th>accuracy</th>\n",
       "      <th>time</th>\n",
       "    </tr>\n",
       "  </thead>\n",
       "  <tbody>\n",
       "    <tr>\n",
       "      <td>0</td>\n",
       "      <td>0.218130</td>\n",
       "      <td>0.489474</td>\n",
       "      <td>0.800000</td>\n",
       "      <td>00:27</td>\n",
       "    </tr>\n",
       "    <tr>\n",
       "      <td>1</td>\n",
       "      <td>0.232960</td>\n",
       "      <td>0.508499</td>\n",
       "      <td>0.742857</td>\n",
       "      <td>00:27</td>\n",
       "    </tr>\n",
       "    <tr>\n",
       "      <td>2</td>\n",
       "      <td>0.228857</td>\n",
       "      <td>0.501192</td>\n",
       "      <td>0.742857</td>\n",
       "      <td>00:27</td>\n",
       "    </tr>\n",
       "    <tr>\n",
       "      <td>3</td>\n",
       "      <td>0.221820</td>\n",
       "      <td>0.470494</td>\n",
       "      <td>0.828571</td>\n",
       "      <td>00:27</td>\n",
       "    </tr>\n",
       "    <tr>\n",
       "      <td>4</td>\n",
       "      <td>0.232661</td>\n",
       "      <td>0.435988</td>\n",
       "      <td>0.857143</td>\n",
       "      <td>00:28</td>\n",
       "    </tr>\n",
       "    <tr>\n",
       "      <td>5</td>\n",
       "      <td>0.232129</td>\n",
       "      <td>0.454233</td>\n",
       "      <td>0.857143</td>\n",
       "      <td>00:27</td>\n",
       "    </tr>\n",
       "    <tr>\n",
       "      <td>6</td>\n",
       "      <td>0.229894</td>\n",
       "      <td>0.525846</td>\n",
       "      <td>0.714286</td>\n",
       "      <td>00:27</td>\n",
       "    </tr>\n",
       "    <tr>\n",
       "      <td>7</td>\n",
       "      <td>0.217109</td>\n",
       "      <td>0.480825</td>\n",
       "      <td>0.800000</td>\n",
       "      <td>00:27</td>\n",
       "    </tr>\n",
       "    <tr>\n",
       "      <td>8</td>\n",
       "      <td>0.219650</td>\n",
       "      <td>0.493729</td>\n",
       "      <td>0.800000</td>\n",
       "      <td>00:27</td>\n",
       "    </tr>\n",
       "    <tr>\n",
       "      <td>9</td>\n",
       "      <td>0.216104</td>\n",
       "      <td>0.468333</td>\n",
       "      <td>0.828571</td>\n",
       "      <td>00:27</td>\n",
       "    </tr>\n",
       "  </tbody>\n",
       "</table>"
      ],
      "text/plain": [
       "<IPython.core.display.HTML object>"
      ]
     },
     "metadata": {},
     "output_type": "display_data"
    }
   ],
   "source": [
    "learn.fit_one_cycle(10, 1e-4, moms=(0.8,0.7))"
   ]
  },
  {
   "cell_type": "code",
   "execution_count": 28,
   "metadata": {},
   "outputs": [],
   "source": [
    "learn.save('fine_tuned_classifier_4')\n",
    "learn.save_encoder('fine_tuned_enc_classifier_4')"
   ]
  },
  {
   "cell_type": "markdown",
   "metadata": {},
   "source": [
    "## What are the most frequently misclassified?"
   ]
  },
  {
   "cell_type": "code",
   "execution_count": 29,
   "metadata": {},
   "outputs": [
    {
     "data": {
      "text/plain": [
       "True"
      ]
     },
     "execution_count": 29,
     "metadata": {},
     "output_type": "execute_result"
    }
   ],
   "source": [
    "interp = ClassificationInterpretation.from_learner(learn)\n",
    "\n",
    "losses,idxs = interp.top_losses()\n",
    "\n",
    "len(data_clas.valid_ds)==len(losses)==len(idxs)"
   ]
  },
  {
   "cell_type": "code",
   "execution_count": 30,
   "metadata": {},
   "outputs": [
    {
     "data": {
      "image/png": "[encoded data removed]",
      "text/plain": [
       "<Figure size 720x720 with 1 Axes>"
      ]
     },
     "metadata": {
      "needs_background": "light"
     },
     "output_type": "display_data"
    }
   ],
   "source": [
    "interp.plot_confusion_matrix(figsize=(12,12), dpi=60)"
   ]
  },
  {
   "cell_type": "code",
   "execution_count": 31,
   "metadata": {},
   "outputs": [
    {
     "data": {
      "text/plain": [
       "[('MANIAC', 'SMANIAC', 3), ('MANIAC', 'ANOTHER', 2)]"
      ]
     },
     "execution_count": 31,
     "metadata": {},
     "output_type": "execute_result"
    }
   ],
   "source": [
    "interp.most_confused(min_val=2)"
   ]
  },
  {
   "cell_type": "code",
   "execution_count": null,
   "metadata": {},
   "outputs": [],
   "source": []
  }
 ],
 "metadata": {
  "kernelspec": {
   "display_name": "Python 3",
   "language": "python",
   "name": "python3"
  },
  "language_info": {
   "codemirror_mode": {
    "name": "ipython",
    "version": 3
   },
   "file_extension": ".py",
   "mimetype": "text/x-python",
   "name": "python",
   "nbconvert_exporter": "python",
   "pygments_lexer": "ipython3",
   "version": "3.7.1"
  }
 },
 "nbformat": 4,
 "nbformat_minor": 2
}
