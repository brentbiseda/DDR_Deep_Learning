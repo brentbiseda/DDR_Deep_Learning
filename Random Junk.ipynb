{
 "cells": [
  {
   "cell_type": "code",
   "execution_count": 2,
   "metadata": {},
   "outputs": [],
   "source": [
    "from PIL import Image\n",
    "from PIL import ImageFont\n",
    "from PIL import ImageDraw "
   ]
  },
  {
   "cell_type": "code",
   "execution_count": 4,
   "metadata": {},
   "outputs": [
    {
     "name": "stdout",
     "output_type": "stream",
     "text": [
      " Volume in drive C has no label.\n",
      " Volume Serial Number is C825-C55F\n",
      "\n",
      " Directory of C:\\Users\\bisedab\\Desktop\\DDR_Deep_Learning\n",
      "\n",
      "03/11/2019  12:16 PM    <DIR>          .\n",
      "03/11/2019  12:16 PM    <DIR>          ..\n",
      "03/11/2019  08:23 AM             1,307 .gitignore\n",
      "03/11/2019  12:12 PM    <DIR>          .ipynb_checkpoints\n",
      "03/11/2019  08:23 AM         2,200,749 1703.06891.pdf\n",
      "03/11/2019  11:24 AM            43,353 DDR_4.ipynb\n",
      "03/11/2019  08:23 AM            80,260 DDR_Without_Leading_Zero.ipynb\n",
      "03/11/2019  11:22 AM            62,073 DDR_With_No_Tokens.ipynb\n",
      "03/11/2019  08:23 AM            79,120 DDR_With_Tokens.ipynb\n",
      "09/07/2017  02:21 PM           132,115 fsipwrv7fgkz.jpg\n",
      "03/11/2019  08:23 AM             1,090 LICENSE\n",
      "03/11/2019  12:14 PM               555 Random Junk.ipynb\n",
      "03/11/2019  08:23 AM                56 README.md\n",
      "03/11/2019  08:23 AM           101,225 screenshot1.png\n",
      "03/11/2019  08:23 AM           536,844 screenshot2.png\n",
      "03/11/2019  08:23 AM         1,488,838 songs.csv\n",
      "03/11/2019  08:23 AM           412,648 songs_67.csv\n",
      "03/11/2019  08:23 AM           188,766 songs_8.csv\n",
      "03/11/2019  08:23 AM         1,397,494 songs_no_zero.csv\n",
      "              16 File(s)      6,726,493 bytes\n",
      "               3 Dir(s)  403,483,295,744 bytes free\n"
     ]
    }
   ],
   "source": [
    "!dir"
   ]
  },
  {
   "cell_type": "code",
   "execution_count": 8,
   "metadata": {},
   "outputs": [],
   "source": [
    "img = Image.open(\"fsipwrv7fgkz.jpg\")\n",
    "draw = ImageDraw.Draw(img)\n",
    "# font = ImageFont.truetype(<font-file>, <font-size>)\n",
    "font = ImageFont.truetype(\"times.ttf\", 150)\n",
    "# draw.text((x, y),\"Sample Text\",(r,g,b))\n",
    "draw.text((0, 0),\"Sample Text\",(255,255,255),font=font)\n",
    "img.save('sample-out.jpg')"
   ]
  },
  {
   "cell_type": "markdown",
   "metadata": {},
   "source": [
    "# How do we Determine BPM for a Song?"
   ]
  },
  {
   "cell_type": "code",
   "execution_count": null,
   "metadata": {},
   "outputs": [],
   "source": []
  }
 ],
 "metadata": {
  "kernelspec": {
   "display_name": "Python 3",
   "language": "python",
   "name": "python3"
  },
  "language_info": {
   "codemirror_mode": {
    "name": "ipython",
    "version": 3
   },
   "file_extension": ".py",
   "mimetype": "text/x-python",
   "name": "python",
   "nbconvert_exporter": "python",
   "pygments_lexer": "ipython3",
   "version": "3.7.1"
  }
 },
 "nbformat": 4,
 "nbformat_minor": 2
}
