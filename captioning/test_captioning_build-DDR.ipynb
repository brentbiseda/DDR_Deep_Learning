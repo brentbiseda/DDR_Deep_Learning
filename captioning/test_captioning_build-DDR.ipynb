{
 "cells": [
  {
   "cell_type": "markdown",
   "metadata": {},
   "source": [
    "#### Need to install pycocotools\n",
    "\n",
    "first:\n",
    "conda install git\n",
    "then:\n",
    "pip3 install \"git+https://github.com/philferriere/cocoapi.git#egg=pycocotools&subdirectory=PythonAPI\""
   ]
  },
  {
   "cell_type": "code",
   "execution_count": 1,
   "metadata": {},
   "outputs": [],
   "source": [
    "import argparse\n",
    "import torch\n",
    "import torch.nn as nn\n",
    "import numpy as np\n",
    "import os\n",
    "import pickle\n",
    "from data_loader_ddr import get_loader \n",
    "from build_vocab_ddr import Vocabulary\n",
    "from model import EncoderCNN, DecoderRNN\n",
    "from torch.nn.utils.rnn import pack_padded_sequence\n",
    "from torchvision import transforms\n",
    "import nltk"
   ]
  },
  {
   "cell_type": "code",
   "execution_count": 2,
   "metadata": {},
   "outputs": [
    {
     "name": "stdout",
     "output_type": "stream",
     "text": [
      "cuda\n"
     ]
    }
   ],
   "source": [
    "# Device configuration\n",
    "device = torch.device('cuda' if torch.cuda.is_available() else 'cpu')\n",
    "print(device)"
   ]
  },
  {
   "cell_type": "code",
   "execution_count": 3,
   "metadata": {},
   "outputs": [
    {
     "data": {
      "text/plain": [
       "'C:\\\\Users\\\\bisedab\\\\Desktop\\\\pytorch-tutorial\\\\tutorials\\\\03-advanced\\\\image_captioning'"
      ]
     },
     "execution_count": 3,
     "metadata": {},
     "output_type": "execute_result"
    }
   ],
   "source": [
    "os.getcwd()"
   ]
  },
  {
   "cell_type": "code",
   "execution_count": 4,
   "metadata": {},
   "outputs": [],
   "source": [
    "#nltk.download('punkt')"
   ]
  },
  {
   "cell_type": "markdown",
   "metadata": {},
   "source": [
    "# Build Vocabulary"
   ]
  },
  {
   "cell_type": "code",
   "execution_count": 5,
   "metadata": {
    "scrolled": false
   },
   "outputs": [
    {
     "name": "stdout",
     "output_type": "stream",
     "text": [
      "Total vocabulary size: 36\n",
      "Saved the vocabulary wrapper to './data/vocab_ddr.pkl'\n"
     ]
    }
   ],
   "source": [
    "!python build_vocab_ddr.py"
   ]
  },
  {
   "cell_type": "markdown",
   "metadata": {},
   "source": [
    "# Resize Images"
   ]
  },
  {
   "cell_type": "code",
   "execution_count": 6,
   "metadata": {
    "scrolled": false
   },
   "outputs": [],
   "source": [
    "#!python resize_ddr.py"
   ]
  },
  {
   "cell_type": "markdown",
   "metadata": {},
   "source": [
    "# Define Args for Running in Notebook"
   ]
  },
  {
   "cell_type": "code",
   "execution_count": 7,
   "metadata": {},
   "outputs": [],
   "source": [
    "class Args:\n",
    "    model_path = 'ddrmodels/'\n",
    "    crop_size = 224\n",
    "    vocab_path = 'data/vocab_ddr.pkl'\n",
    "    image_dir = 'data/resizedddr'\n",
    "    caption_path = 'data/annotations/spectrogram_2.csv'\n",
    "    log_step = 10\n",
    "    save_step = 100\n",
    "    embed_size = 256\n",
    "    hidden_size = 512\n",
    "    num_layers = 3\n",
    "    num_epochs = 1\n",
    "    batch_size = 2\n",
    "    num_workers = 2\n",
    "    learning_rate = 0.001\n",
    "    \n",
    "args=Args()"
   ]
  },
  {
   "cell_type": "markdown",
   "metadata": {},
   "source": [
    "# Test Data Loaders"
   ]
  },
  {
   "cell_type": "code",
   "execution_count": 8,
   "metadata": {},
   "outputs": [],
   "source": [
    "    with open(args.vocab_path, 'rb') as f:\n",
    "        vocab = pickle.load(f)"
   ]
  },
  {
   "cell_type": "code",
   "execution_count": null,
   "metadata": {},
   "outputs": [],
   "source": [
    "vocab.idx2word[10]"
   ]
  },
  {
   "cell_type": "code",
   "execution_count": null,
   "metadata": {},
   "outputs": [],
   "source": [
    "# def main(args):\n",
    "#     # Create model directory\n",
    "#     if not os.path.exists(args.model_path):\n",
    "#         os.makedirs(args.model_path)\n",
    "    \n",
    "#     # Image preprocessing, normalization for the pretrained resnet\n",
    "#     transform = transforms.Compose([ \n",
    "#         transforms.RandomCrop(args.crop_size),\n",
    "#         transforms.RandomHorizontalFlip(), \n",
    "#         transforms.ToTensor(), \n",
    "#         transforms.Normalize((0.485, 0.456, 0.406), \n",
    "#                              (0.229, 0.224, 0.225))])\n",
    "    \n",
    "#     # Load vocabulary wrapper\n",
    "#     with open(args.vocab_path, 'rb') as f:\n",
    "#         vocab = pickle.load(f)\n",
    "    \n",
    "#     # Build data loader\n",
    "#     data_loader = get_loader(args.image_dir, args.caption_path, vocab, \n",
    "#                              transform, args.batch_size,\n",
    "#                              shuffle=True, num_workers=args.num_workers) \n",
    "\n",
    "   \n",
    "#     for i, (images, captions, lengths) in enumerate(data_loader):\n",
    "            \n",
    "#         # Set mini-batch dataset\n",
    "#         images = images.to(device)\n",
    "#         captions = captions.to(device)\n",
    "#         targets = pack_padded_sequence(captions, lengths, batch_first=True)[0]\n",
    "#         print(images, captions, targets)\n",
    "\n",
    "\n",
    "# if __name__ == '__main__':\n",
    "#     main(args)"
   ]
  },
  {
   "cell_type": "markdown",
   "metadata": {},
   "source": [
    "# Train the Model"
   ]
  },
  {
   "cell_type": "code",
   "execution_count": null,
   "metadata": {},
   "outputs": [],
   "source": [
    "    encoder = EncoderCNN(args.embed_size).to(device)\n",
    "    decoder = DecoderRNN(args.embed_size, args.hidden_size, len(vocab), args.num_layers).to(device)\n",
    "    "
   ]
  },
  {
   "cell_type": "code",
   "execution_count": null,
   "metadata": {},
   "outputs": [],
   "source": [
    "    d_decoder = nn.Sequential(decoder,\n",
    "                              nn.Linear(len(vocab), 1),\n",
    "                              nn.Sigmoid())"
   ]
  },
  {
   "cell_type": "code",
   "execution_count": null,
   "metadata": {},
   "outputs": [],
   "source": [
    "args.embed_size, args.hidden_size, len(vocab), args.num_layers"
   ]
  },
  {
   "cell_type": "code",
   "execution_count": null,
   "metadata": {},
   "outputs": [],
   "source": [
    "decoder"
   ]
  },
  {
   "cell_type": "code",
   "execution_count": null,
   "metadata": {
    "scrolled": false
   },
   "outputs": [
    {
     "name": "stdout",
     "output_type": "stream",
     "text": [
      "torch.Size([2, 3, 224, 224])\n",
      "torch.Size([2, 256])\n",
      "torch.Size([2, 2421])\n",
      "[2421, 1875]\n",
      "torch.Size([4296, 36])\n",
      "torch.Size([4296])\n",
      "Press Enter to continue...\n",
      "Epoch [0/1], Step [0/375], Loss: 3.5422, Perplexity: 34.5417\n",
      "torch.Size([2, 3, 224, 224])\n",
      "torch.Size([2, 256])\n",
      "torch.Size([2, 1653])\n",
      "[1653, 1503]\n",
      "torch.Size([3156, 36])\n",
      "torch.Size([3156])\n",
      "Press Enter to continue...\n",
      "torch.Size([2, 3, 224, 224])\n",
      "torch.Size([2, 256])\n",
      "torch.Size([2, 1943])\n",
      "[1943, 1614]\n",
      "torch.Size([3557, 36])\n",
      "torch.Size([3557])\n"
     ]
    }
   ],
   "source": [
    "def main(args):\n",
    "    # Create model directory\n",
    "    if not os.path.exists(args.model_path):\n",
    "        os.makedirs(args.model_path)\n",
    "    \n",
    "    # Image preprocessing, normalization for the pretrained resnet\n",
    "    transform = transforms.Compose([ \n",
    "        transforms.RandomCrop(args.crop_size),\n",
    "        transforms.RandomHorizontalFlip(), \n",
    "        transforms.ToTensor(), \n",
    "        transforms.Normalize((0.485, 0.456, 0.406), \n",
    "                             (0.229, 0.224, 0.225))])\n",
    "    \n",
    "    # Load vocabulary wrapper\n",
    "    with open(args.vocab_path, 'rb') as f:\n",
    "        vocab = pickle.load(f)\n",
    "    \n",
    "    # Build data loader\n",
    "    data_loader = get_loader(args.image_dir, args.caption_path, vocab, \n",
    "                             transform, args.batch_size,\n",
    "                             shuffle=True, num_workers=args.num_workers) \n",
    "\n",
    "    # Build the models\n",
    "    encoder = EncoderCNN(args.embed_size).to(device)\n",
    "    decoder = DecoderRNN(args.embed_size, args.hidden_size, len(vocab), args.num_layers).to(device)\n",
    "    \n",
    "    # Loss and optimizer\n",
    "    criterion = nn.CrossEntropyLoss()\n",
    "    params = list(decoder.parameters()) + list(encoder.linear.parameters()) + list(encoder.bn.parameters())\n",
    "    optimizer = torch.optim.Adam(params, lr=args.learning_rate)\n",
    "    \n",
    "    # Train the models\n",
    "    total_step = len(data_loader)\n",
    "    for epoch in range(args.num_epochs):\n",
    "        for i, (images, captions, lengths) in enumerate(data_loader):\n",
    "            \n",
    "            # Set mini-batch dataset\n",
    "            images = images.to(device)\n",
    "            captions = captions.to(device)\n",
    "            targets = pack_padded_sequence(captions, lengths, batch_first=True)[0]\n",
    "            #print(len(images), len(captions), len(targets))\n",
    "            \n",
    "            #Skip batches of 1 item\n",
    "            if len(images) > 1:\n",
    "                # Forward, backward and optimize\n",
    "                print(images.shape)\n",
    "                features = encoder(images)\n",
    "                print(features.shape)\n",
    "                print(captions.shape)\n",
    "                print(lengths)\n",
    "                outputs = decoder(features, captions, lengths)\n",
    "                print(outputs.shape)\n",
    "                print(targets.shape)\n",
    "                loss = criterion(outputs, targets)\n",
    "                decoder.zero_grad()\n",
    "                encoder.zero_grad()\n",
    "                loss.backward()\n",
    "                optimizer.step()\n",
    "                input(\"Press Enter to continue...\")\n",
    "\n",
    "                # Print log info\n",
    "                if i % args.log_step == 0:\n",
    "                    print('Epoch [{}/{}], Step [{}/{}], Loss: {:.4f}, Perplexity: {:5.4f}'\n",
    "                          .format(epoch, args.num_epochs, i, total_step, loss.item(), np.exp(loss.item()))) \n",
    "                \n",
    "            # Save the model checkpoints\n",
    "            if (i+1) % args.save_step == 0:\n",
    "                torch.save(decoder.state_dict(), os.path.join(\n",
    "                    args.model_path, 'decoder-{}-{}.ckpt'.format(epoch+1, i+1)))\n",
    "                torch.save(encoder.state_dict(), os.path.join(\n",
    "                    args.model_path, 'encoder-{}-{}.ckpt'.format(epoch+1, i+1)))\n",
    "\n",
    "\n",
    "if __name__ == '__main__':\n",
    "    main(args)"
   ]
  },
  {
   "cell_type": "markdown",
   "metadata": {},
   "source": [
    "# Test Model"
   ]
  },
  {
   "cell_type": "code",
   "execution_count": null,
   "metadata": {},
   "outputs": [],
   "source": [
    "import torch\n",
    "import matplotlib.pyplot as plt\n",
    "import numpy as np \n",
    "import argparse\n",
    "import pickle \n",
    "import os\n",
    "from torchvision import transforms \n",
    "from build_vocab import Vocabulary\n",
    "from model import EncoderCNN, DecoderRNN\n",
    "from PIL import Image\n"
   ]
  },
  {
   "cell_type": "code",
   "execution_count": null,
   "metadata": {},
   "outputs": [],
   "source": [
    "class Args:\n",
    "    image = 'C:/Users/bisedab/Desktop/pytorch-tutorial/tutorials/03-advanced/image_captioning/data/resizedddr/A_1.png'\n",
    "    encoder_path = 'ddrmodels/encoder-1-300.ckpt'\n",
    "    decoder_path = 'ddrmodels/decoder-1-300.ckpt'\n",
    "    vocab_path = 'data/vocab_ddr.pkl'\n",
    "    embed_size = 256\n",
    "    hidden_size = 512\n",
    "    num_layers = 3\n",
    "\n",
    "args=Args()"
   ]
  },
  {
   "cell_type": "code",
   "execution_count": null,
   "metadata": {},
   "outputs": [],
   "source": [
    "# Device configuration\n",
    "device = torch.device('cuda' if torch.cuda.is_available() else 'cpu')\n",
    "\n",
    "def load_image(image_path, transform=None):\n",
    "    image = Image.open(image_path)\n",
    "    image = image.convert('RGB')\n",
    "    image = image.resize([224, 224], Image.LANCZOS)\n",
    "    \n",
    "    if transform is not None:\n",
    "        image = transform(image).unsqueeze(0)\n",
    "    \n",
    "    return image\n",
    "\n",
    "def main(args):\n",
    "    # Image preprocessing\n",
    "    transform = transforms.Compose([\n",
    "        transforms.ToTensor(), \n",
    "        transforms.Normalize((0.485, 0.456, 0.406), \n",
    "                             (0.229, 0.224, 0.225))])\n",
    "    \n",
    "    # Load vocabulary wrapper\n",
    "    with open(args.vocab_path, 'rb') as f:\n",
    "        vocab = pickle.load(f)\n",
    "\n",
    "    # Build models\n",
    "    encoder = EncoderCNN(args.embed_size).eval()  # eval mode (batchnorm uses moving mean/variance)\n",
    "    decoder = DecoderRNN(args.embed_size, args.hidden_size, len(vocab), args.num_layers)\n",
    "    encoder = encoder.to(device)\n",
    "    decoder = decoder.to(device)\n",
    "\n",
    "    # Load the trained model parameters\n",
    "    encoder.load_state_dict(torch.load(args.encoder_path))\n",
    "    decoder.load_state_dict(torch.load(args.decoder_path))\n",
    "\n",
    "    # Prepare an image\n",
    "    image = load_image(args.image, transform)\n",
    "    #image = image.convert('RGB')\n",
    "    image_tensor = image.to(device)\n",
    "    \n",
    "    # Generate an caption from the image\n",
    "    feature = encoder(image_tensor)\n",
    "    sampled_ids = decoder.sample(feature)\n",
    "    sampled_ids = sampled_ids[0].cpu().numpy()          # (1, max_seq_length) -> (max_seq_length)\n",
    "    \n",
    "    # Convert word_ids to words\n",
    "    sampled_caption = []\n",
    "    for word_id in sampled_ids:\n",
    "        word = vocab.idx2word[word_id]\n",
    "        sampled_caption.append(word)\n",
    "        if word == '<end>':\n",
    "            break\n",
    "    sentence = ' '.join(sampled_caption)\n",
    "    \n",
    "    # Print out the image and the generated caption\n",
    "    print (sentence)\n",
    "    image = Image.open(args.image)\n",
    "    plt.imshow(np.asarray(image))\n",
    "    \n",
    "if __name__ == '__main__':\n",
    "\n",
    "    main(args)"
   ]
  },
  {
   "cell_type": "code",
   "execution_count": null,
   "metadata": {},
   "outputs": [],
   "source": []
  }
 ],
 "metadata": {
  "kernelspec": {
   "display_name": "Python 3",
   "language": "python",
   "name": "python3"
  },
  "language_info": {
   "codemirror_mode": {
    "name": "ipython",
    "version": 3
   },
   "file_extension": ".py",
   "mimetype": "text/x-python",
   "name": "python",
   "nbconvert_exporter": "python",
   "pygments_lexer": "ipython3",
   "version": "3.7.1"
  }
 },
 "nbformat": 4,
 "nbformat_minor": 2
}
